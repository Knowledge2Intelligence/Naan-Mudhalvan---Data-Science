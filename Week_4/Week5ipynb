{
  "nbformat": 4,
  "nbformat_minor": 0,
  "metadata": {
    "colab": {
      "provenance": [],
      "include_colab_link": true
    },
    "kernelspec": {
      "name": "python3",
      "display_name": "Python 3"
    },
    "language_info": {
      "name": "python"
    }
  },
  "cells": [
    {
      "cell_type": "markdown",
      "metadata": {
        "id": "view-in-github",
        "colab_type": "text"
      },
      "source": [
        "<a href=\"https://colab.research.google.com/github/Knowledge2Intelligence/Naan-Mudhalvan---Data-Science/blob/main/Week5ipynb\" target=\"_parent\"><img src=\"https://colab.research.google.com/assets/colab-badge.svg\" alt=\"Open In Colab\"/></a>"
      ]
    },
    {
      "cell_type": "code",
      "source": [
        "import pandas as pd\n",
        "df = pd.read_csv(\"students_dataset.csv\")\n",
        "print(df.head())"
      ],
      "metadata": {
        "colab": {
          "base_uri": "https://localhost:8080/"
        },
        "id": "3F7EHV1UDpkD",
        "outputId": "fab43c23-c275-4537-d7e9-b4a13b53862c"
      },
      "execution_count": null,
      "outputs": [
        {
          "output_type": "stream",
          "name": "stdout",
          "text": [
            "      Name   Age  Marks  Attendance Passed\n",
            "0    Alice  20.0   85.0        90.0    Yes\n",
            "1      Bob  21.0    NaN        80.0     No\n",
            "2  Charlie   NaN   78.0         NaN    Yes\n",
            "3    David  22.0   90.0        85.0    Yes\n",
            "4      Eve  20.0   88.0        95.0     No\n"
          ]
        }
      ]
    },
    {
      "cell_type": "code",
      "source": [
        "print(df.isnull().sum())"
      ],
      "metadata": {
        "colab": {
          "base_uri": "https://localhost:8080/"
        },
        "id": "lJL6bxSdEF_P",
        "outputId": "1aa8569d-837d-4145-c5f5-6a518ec961e3"
      },
      "execution_count": null,
      "outputs": [
        {
          "output_type": "stream",
          "name": "stdout",
          "text": [
            "Name          0\n",
            "Age           4\n",
            "Marks         4\n",
            "Attendance    4\n",
            "Passed        0\n",
            "dtype: int64\n"
          ]
        }
      ]
    },
    {
      "cell_type": "code",
      "source": [
        "df_cleaned = df.dropna()\n",
        "print(df_cleaned)"
      ],
      "metadata": {
        "colab": {
          "base_uri": "https://localhost:8080/"
        },
        "id": "jwSZtZavEYT7",
        "outputId": "e3fd4611-cf28-4744-bbc2-bfa9dcfb7c61"
      },
      "execution_count": null,
      "outputs": [
        {
          "output_type": "stream",
          "name": "stdout",
          "text": [
            "     Name   Age  Marks  Attendance Passed\n",
            "0   Alice  20.0   85.0        90.0    Yes\n",
            "3   David  22.0   90.0        85.0    Yes\n",
            "4     Eve  20.0   88.0        95.0     No\n",
            "8     Ivy  24.0   92.0        92.0    Yes\n",
            "12   Mona  21.0   83.0        80.0     No\n"
          ]
        }
      ]
    },
    {
      "cell_type": "code",
      "source": [
        "df[\"Age\"].fillna(df[\"Age\"].mean(), inplace=True)\n",
        "df[\"Marks\"].fillna(df[\"Marks\"].median(), inplace=True)\n",
        "df[\"Attendance\"].fillna(df[\"Attendance\"].mean(), inplace=True)\n",
        "print(df)"
      ],
      "metadata": {
        "colab": {
          "base_uri": "https://localhost:8080/"
        },
        "id": "Uq8Z_PefEqDj",
        "outputId": "99ca0c57-6e1b-4d3f-f240-81e9d9d35796"
      },
      "execution_count": null,
      "outputs": [
        {
          "output_type": "stream",
          "name": "stdout",
          "text": [
            "       Name   Age  Marks  Attendance Passed\n",
            "0     Alice  20.0   85.0       90.00    Yes\n",
            "1       Bob  21.0   82.0       80.00     No\n",
            "2   Charlie  22.0   78.0       85.25    Yes\n",
            "3     David  22.0   90.0       85.00    Yes\n",
            "4       Eve  20.0   88.0       95.00     No\n",
            "5     Frank  22.0   76.0       70.00    Yes\n",
            "6     Grace  23.0   82.0       88.00     No\n",
            "7      Hank  21.0   80.0       85.25    Yes\n",
            "8       Ivy  24.0   92.0       92.00    Yes\n",
            "9      Jack  22.0   79.0       85.00     No\n",
            "10    Kelly  22.0   82.0       78.00    Yes\n",
            "11      Leo  23.0   87.0       85.25    Yes\n",
            "12     Mona  21.0   83.0       80.00     No\n",
            "13     Nina  22.0   77.0       89.00    Yes\n",
            "14    Oscar  25.0   82.0       91.00     No\n",
            "15     Paul  22.0   81.0       85.25    Yes\n"
          ]
        },
        {
          "output_type": "stream",
          "name": "stderr",
          "text": [
            "<ipython-input-15-07324bb5305d>:1: FutureWarning: A value is trying to be set on a copy of a DataFrame or Series through chained assignment using an inplace method.\n",
            "The behavior will change in pandas 3.0. This inplace method will never work because the intermediate object on which we are setting values always behaves as a copy.\n",
            "\n",
            "For example, when doing 'df[col].method(value, inplace=True)', try using 'df.method({col: value}, inplace=True)' or df[col] = df[col].method(value) instead, to perform the operation inplace on the original object.\n",
            "\n",
            "\n",
            "  df[\"Age\"].fillna(df[\"Age\"].mean(), inplace=True)\n",
            "<ipython-input-15-07324bb5305d>:2: FutureWarning: A value is trying to be set on a copy of a DataFrame or Series through chained assignment using an inplace method.\n",
            "The behavior will change in pandas 3.0. This inplace method will never work because the intermediate object on which we are setting values always behaves as a copy.\n",
            "\n",
            "For example, when doing 'df[col].method(value, inplace=True)', try using 'df.method({col: value}, inplace=True)' or df[col] = df[col].method(value) instead, to perform the operation inplace on the original object.\n",
            "\n",
            "\n",
            "  df[\"Marks\"].fillna(df[\"Marks\"].median(), inplace=True)\n",
            "<ipython-input-15-07324bb5305d>:3: FutureWarning: A value is trying to be set on a copy of a DataFrame or Series through chained assignment using an inplace method.\n",
            "The behavior will change in pandas 3.0. This inplace method will never work because the intermediate object on which we are setting values always behaves as a copy.\n",
            "\n",
            "For example, when doing 'df[col].method(value, inplace=True)', try using 'df.method({col: value}, inplace=True)' or df[col] = df[col].method(value) instead, to perform the operation inplace on the original object.\n",
            "\n",
            "\n",
            "  df[\"Attendance\"].fillna(df[\"Attendance\"].mean(), inplace=True)\n"
          ]
        }
      ]
    },
    {
      "cell_type": "code",
      "source": [
        "df[\"Passed\"].fillna(df[\"Passed\"].mode()[0], inplace=True)\n",
        "print(df)"
      ],
      "metadata": {
        "colab": {
          "base_uri": "https://localhost:8080/"
        },
        "id": "BCv0rZKjF1AT",
        "outputId": "1fde2d8f-98e5-4ac6-e76c-889d088e7233"
      },
      "execution_count": null,
      "outputs": [
        {
          "output_type": "stream",
          "name": "stdout",
          "text": [
            "       Name   Age  Marks  Attendance Passed\n",
            "0     Alice  20.0   85.0       90.00    Yes\n",
            "1       Bob  21.0   82.0       80.00     No\n",
            "2   Charlie  22.0   78.0       85.25    Yes\n",
            "3     David  22.0   90.0       85.00    Yes\n",
            "4       Eve  20.0   88.0       95.00     No\n",
            "5     Frank  22.0   76.0       70.00    Yes\n",
            "6     Grace  23.0   82.0       88.00     No\n",
            "7      Hank  21.0   80.0       85.25    Yes\n",
            "8       Ivy  24.0   92.0       92.00    Yes\n",
            "9      Jack  22.0   79.0       85.00     No\n",
            "10    Kelly  22.0   82.0       78.00    Yes\n",
            "11      Leo  23.0   87.0       85.25    Yes\n",
            "12     Mona  21.0   83.0       80.00     No\n",
            "13     Nina  22.0   77.0       89.00    Yes\n",
            "14    Oscar  25.0   82.0       91.00     No\n",
            "15     Paul  22.0   81.0       85.25    Yes\n"
          ]
        },
        {
          "output_type": "stream",
          "name": "stderr",
          "text": [
            "<ipython-input-16-fb9acbd060a0>:1: FutureWarning: A value is trying to be set on a copy of a DataFrame or Series through chained assignment using an inplace method.\n",
            "The behavior will change in pandas 3.0. This inplace method will never work because the intermediate object on which we are setting values always behaves as a copy.\n",
            "\n",
            "For example, when doing 'df[col].method(value, inplace=True)', try using 'df.method({col: value}, inplace=True)' or df[col] = df[col].method(value) instead, to perform the operation inplace on the original object.\n",
            "\n",
            "\n",
            "  df[\"Passed\"].fillna(df[\"Passed\"].mode()[0], inplace=True)\n"
          ]
        }
      ]
    },
    {
      "cell_type": "code",
      "source": [
        "df.ffill(inplace=True) #Forwad fill\n",
        "print(df)"
      ],
      "metadata": {
        "colab": {
          "base_uri": "https://localhost:8080/"
        },
        "id": "L4UnmbniGMy9",
        "outputId": "de974200-21b8-4fcf-c77e-c283097c60d1"
      },
      "execution_count": null,
      "outputs": [
        {
          "output_type": "stream",
          "name": "stdout",
          "text": [
            "       Name   Age  Marks  Attendance Passed\n",
            "0     Alice  20.0   85.0       90.00    Yes\n",
            "1       Bob  21.0   82.0       80.00     No\n",
            "2   Charlie  22.0   78.0       85.25    Yes\n",
            "3     David  22.0   90.0       85.00    Yes\n",
            "4       Eve  20.0   88.0       95.00     No\n",
            "5     Frank  22.0   76.0       70.00    Yes\n",
            "6     Grace  23.0   82.0       88.00     No\n",
            "7      Hank  21.0   80.0       85.25    Yes\n",
            "8       Ivy  24.0   92.0       92.00    Yes\n",
            "9      Jack  22.0   79.0       85.00     No\n",
            "10    Kelly  22.0   82.0       78.00    Yes\n",
            "11      Leo  23.0   87.0       85.25    Yes\n",
            "12     Mona  21.0   83.0       80.00     No\n",
            "13     Nina  22.0   77.0       89.00    Yes\n",
            "14    Oscar  25.0   82.0       91.00     No\n",
            "15     Paul  22.0   81.0       85.25    Yes\n"
          ]
        }
      ]
    },
    {
      "cell_type": "code",
      "source": [
        "df.bfill(inplace=True) # Backward fill\n",
        "print(df)"
      ],
      "metadata": {
        "colab": {
          "base_uri": "https://localhost:8080/"
        },
        "id": "npNxXVdfGfby",
        "outputId": "23cdc09c-0ed9-41dd-8270-34c970c61ab0"
      },
      "execution_count": null,
      "outputs": [
        {
          "output_type": "stream",
          "name": "stdout",
          "text": [
            "       Name   Age  Marks  Attendance Passed\n",
            "0     Alice  20.0   85.0       90.00    Yes\n",
            "1       Bob  21.0   82.0       80.00     No\n",
            "2   Charlie  22.0   78.0       85.25    Yes\n",
            "3     David  22.0   90.0       85.00    Yes\n",
            "4       Eve  20.0   88.0       95.00     No\n",
            "5     Frank  22.0   76.0       70.00    Yes\n",
            "6     Grace  23.0   82.0       88.00     No\n",
            "7      Hank  21.0   80.0       85.25    Yes\n",
            "8       Ivy  24.0   92.0       92.00    Yes\n",
            "9      Jack  22.0   79.0       85.00     No\n",
            "10    Kelly  22.0   82.0       78.00    Yes\n",
            "11      Leo  23.0   87.0       85.25    Yes\n",
            "12     Mona  21.0   83.0       80.00     No\n",
            "13     Nina  22.0   77.0       89.00    Yes\n",
            "14    Oscar  25.0   82.0       91.00     No\n",
            "15     Paul  22.0   81.0       85.25    Yes\n"
          ]
        }
      ]
    },
    {
      "cell_type": "code",
      "source": [
        "df.drop_duplicates(inplace=True)\n",
        "print(df)"
      ],
      "metadata": {
        "colab": {
          "base_uri": "https://localhost:8080/"
        },
        "id": "PIRHI2dpGniD",
        "outputId": "b3fe256e-19bd-4db1-d889-b164591566ef"
      },
      "execution_count": null,
      "outputs": [
        {
          "output_type": "stream",
          "name": "stdout",
          "text": [
            "       Name   Age  Marks  Attendance Passed\n",
            "0     Alice  20.0   85.0       90.00    Yes\n",
            "1       Bob  21.0   82.0       80.00     No\n",
            "2   Charlie  22.0   78.0       85.25    Yes\n",
            "3     David  22.0   90.0       85.00    Yes\n",
            "4       Eve  20.0   88.0       95.00     No\n",
            "5     Frank  22.0   76.0       70.00    Yes\n",
            "6     Grace  23.0   82.0       88.00     No\n",
            "7      Hank  21.0   80.0       85.25    Yes\n",
            "8       Ivy  24.0   92.0       92.00    Yes\n",
            "9      Jack  22.0   79.0       85.00     No\n",
            "10    Kelly  22.0   82.0       78.00    Yes\n",
            "11      Leo  23.0   87.0       85.25    Yes\n",
            "12     Mona  21.0   83.0       80.00     No\n",
            "13     Nina  22.0   77.0       89.00    Yes\n",
            "14    Oscar  25.0   82.0       91.00     No\n",
            "15     Paul  22.0   81.0       85.25    Yes\n"
          ]
        }
      ]
    },
    {
      "cell_type": "code",
      "source": [
        "from sklearn.preprocessing import StandardScaler\n",
        "scaler = StandardScaler()\n",
        "df_scaled = df.copy()\n",
        "df_scaled[[\"Marks\", \"Attendance\"]] = scaler.fit_transform(df[[\"Marks\", \"Attendance\"]])\n",
        "print(df_scaled)"
      ],
      "metadata": {
        "colab": {
          "base_uri": "https://localhost:8080/"
        },
        "id": "LtkZRjNDHgN8",
        "outputId": "53bb9072-e43c-49b6-e47c-2ba3a85e6891"
      },
      "execution_count": null,
      "outputs": [
        {
          "output_type": "stream",
          "name": "stdout",
          "text": [
            "       Name   Age     Marks  Attendance Passed\n",
            "0     Alice  20.0  0.505490    0.804154    Yes\n",
            "1       Bob  21.0 -0.168497   -0.888802     No\n",
            "2   Charlie  22.0 -1.067146    0.000000    Yes\n",
            "3     David  22.0  1.628802   -0.042324    Yes\n",
            "4       Eve  20.0  1.179478    1.650632     No\n",
            "5     Frank  22.0 -1.516471   -2.581758    Yes\n",
            "6     Grace  23.0 -0.168497    0.465563     No\n",
            "7      Hank  21.0 -0.617822    0.000000    Yes\n",
            "8       Ivy  24.0  2.078127    1.142745    Yes\n",
            "9      Jack  22.0 -0.842484   -0.042324     No\n",
            "10    Kelly  22.0 -0.168497   -1.227393    Yes\n",
            "11      Leo  23.0  0.954815    0.000000    Yes\n",
            "12     Mona  21.0  0.056166   -0.888802     No\n",
            "13     Nina  22.0 -1.291809    0.634858    Yes\n",
            "14    Oscar  25.0 -0.168497    0.973450     No\n",
            "15     Paul  22.0 -0.393159    0.000000    Yes\n"
          ]
        }
      ]
    },
    {
      "cell_type": "code",
      "source": [
        "from sklearn.preprocessing import MinMaxScaler\n",
        "scaler = MinMaxScaler()\n",
        "df_scaled[[\"Marks\", \"Attendance\"]] = scaler.fit_transform(df[[\"Marks\", \"Attendance\"]])\n",
        "print(df_scaled)"
      ],
      "metadata": {
        "colab": {
          "base_uri": "https://localhost:8080/"
        },
        "id": "jn9VsY_eH0HM",
        "outputId": "3aae1714-9a50-43c1-dde8-3984e5c8455c"
      },
      "execution_count": null,
      "outputs": [
        {
          "output_type": "stream",
          "name": "stdout",
          "text": [
            "       Name   Age   Marks  Attendance Passed\n",
            "0     Alice  20.0  0.5625        0.80    Yes\n",
            "1       Bob  21.0  0.3750        0.40     No\n",
            "2   Charlie  22.0  0.1250        0.61    Yes\n",
            "3     David  22.0  0.8750        0.60    Yes\n",
            "4       Eve  20.0  0.7500        1.00     No\n",
            "5     Frank  22.0  0.0000        0.00    Yes\n",
            "6     Grace  23.0  0.3750        0.72     No\n",
            "7      Hank  21.0  0.2500        0.61    Yes\n",
            "8       Ivy  24.0  1.0000        0.88    Yes\n",
            "9      Jack  22.0  0.1875        0.60     No\n",
            "10    Kelly  22.0  0.3750        0.32    Yes\n",
            "11      Leo  23.0  0.6875        0.61    Yes\n",
            "12     Mona  21.0  0.4375        0.40     No\n",
            "13     Nina  22.0  0.0625        0.76    Yes\n",
            "14    Oscar  25.0  0.3750        0.84     No\n",
            "15     Paul  22.0  0.3125        0.61    Yes\n"
          ]
        }
      ]
    },
    {
      "cell_type": "code",
      "source": [
        "df_encoded = pd.get_dummies(df, columns=[\"Passed\"], drop_first=True)\n",
        "print(df_encoded)"
      ],
      "metadata": {
        "colab": {
          "base_uri": "https://localhost:8080/"
        },
        "id": "Y7y65gsAH_KM",
        "outputId": "978b39af-f151-4db3-caf0-c51eeb9700b3"
      },
      "execution_count": null,
      "outputs": [
        {
          "output_type": "stream",
          "name": "stdout",
          "text": [
            "       Name   Age  Marks  Attendance  Passed_Yes\n",
            "0     Alice  20.0   85.0       90.00        True\n",
            "1       Bob  21.0   82.0       80.00       False\n",
            "2   Charlie  22.0   78.0       85.25        True\n",
            "3     David  22.0   90.0       85.00        True\n",
            "4       Eve  20.0   88.0       95.00       False\n",
            "5     Frank  22.0   76.0       70.00        True\n",
            "6     Grace  23.0   82.0       88.00       False\n",
            "7      Hank  21.0   80.0       85.25        True\n",
            "8       Ivy  24.0   92.0       92.00        True\n",
            "9      Jack  22.0   79.0       85.00       False\n",
            "10    Kelly  22.0   82.0       78.00        True\n",
            "11      Leo  23.0   87.0       85.25        True\n",
            "12     Mona  21.0   83.0       80.00       False\n",
            "13     Nina  22.0   77.0       89.00        True\n",
            "14    Oscar  25.0   82.0       91.00       False\n",
            "15     Paul  22.0   81.0       85.25        True\n"
          ]
        }
      ]
    },
    {
      "cell_type": "code",
      "source": [
        "df_encoded = pd.get_dummies(df, columns=[\"Passed\"], drop_first=True)\n",
        "print(df_encoded)"
      ],
      "metadata": {
        "colab": {
          "base_uri": "https://localhost:8080/"
        },
        "id": "UlDmCJ8XIazN",
        "outputId": "7b00e77a-35b3-460c-cafa-ed92a6298d1e"
      },
      "execution_count": null,
      "outputs": [
        {
          "output_type": "stream",
          "name": "stdout",
          "text": [
            "       Name   Age  Marks  Attendance  Passed_Yes\n",
            "0     Alice  20.0   85.0       90.00        True\n",
            "1       Bob  21.0   82.0       80.00       False\n",
            "2   Charlie  22.0   78.0       85.25        True\n",
            "3     David  22.0   90.0       85.00        True\n",
            "4       Eve  20.0   88.0       95.00       False\n",
            "5     Frank  22.0   76.0       70.00        True\n",
            "6     Grace  23.0   82.0       88.00       False\n",
            "7      Hank  21.0   80.0       85.25        True\n",
            "8       Ivy  24.0   92.0       92.00        True\n",
            "9      Jack  22.0   79.0       85.00       False\n",
            "10    Kelly  22.0   82.0       78.00        True\n",
            "11      Leo  23.0   87.0       85.25        True\n",
            "12     Mona  21.0   83.0       80.00       False\n",
            "13     Nina  22.0   77.0       89.00        True\n",
            "14    Oscar  25.0   82.0       91.00       False\n",
            "15     Paul  22.0   81.0       85.25        True\n"
          ]
        }
      ]
    },
    {
      "cell_type": "code",
      "source": [
        "from sklearn.preprocessing import LabelEncoder\n",
        "encoder = LabelEncoder()\n",
        "df[\"Passed\"] = encoder.fit_transform(df[\"Passed\"])\n",
        "print(df)"
      ],
      "metadata": {
        "colab": {
          "base_uri": "https://localhost:8080/"
        },
        "id": "49bkej39IhQE",
        "outputId": "a3443778-75a0-468d-b156-3b333371efee"
      },
      "execution_count": null,
      "outputs": [
        {
          "output_type": "stream",
          "name": "stdout",
          "text": [
            "       Name   Age  Marks  Attendance  Passed\n",
            "0     Alice  20.0   85.0       90.00       1\n",
            "1       Bob  21.0   82.0       80.00       0\n",
            "2   Charlie  22.0   78.0       85.25       1\n",
            "3     David  22.0   90.0       85.00       1\n",
            "4       Eve  20.0   88.0       95.00       0\n",
            "5     Frank  22.0   76.0       70.00       1\n",
            "6     Grace  23.0   82.0       88.00       0\n",
            "7      Hank  21.0   80.0       85.25       1\n",
            "8       Ivy  24.0   92.0       92.00       1\n",
            "9      Jack  22.0   79.0       85.00       0\n",
            "10    Kelly  22.0   82.0       78.00       1\n",
            "11      Leo  23.0   87.0       85.25       1\n",
            "12     Mona  21.0   83.0       80.00       0\n",
            "13     Nina  22.0   77.0       89.00       1\n",
            "14    Oscar  25.0   82.0       91.00       0\n",
            "15     Paul  22.0   81.0       85.25       1\n"
          ]
        }
      ]
    },
    {
      "cell_type": "code",
      "source": [
        "def performance_category(marks):\n",
        "  if marks >= 85:\n",
        "        return \"High\"\n",
        "  elif marks >= 70:\n",
        "        return \"Medium\"\n",
        "  else:\n",
        "        return \"Low\"\n",
        "\n",
        "df[\"Performance\"] = df[\"Marks\"].apply(performance_category)\n",
        "print(df)"
      ],
      "metadata": {
        "colab": {
          "base_uri": "https://localhost:8080/"
        },
        "id": "-31JpKxZIscN",
        "outputId": "77a7586b-3302-40c4-ba1a-307b71531b25"
      },
      "execution_count": null,
      "outputs": [
        {
          "output_type": "stream",
          "name": "stdout",
          "text": [
            "       Name   Age  Marks  Attendance  Passed Performance\n",
            "0     Alice  20.0   85.0       90.00       1        High\n",
            "1       Bob  21.0   82.0       80.00       0      Medium\n",
            "2   Charlie  22.0   78.0       85.25       1      Medium\n",
            "3     David  22.0   90.0       85.00       1        High\n",
            "4       Eve  20.0   88.0       95.00       0        High\n",
            "5     Frank  22.0   76.0       70.00       1      Medium\n",
            "6     Grace  23.0   82.0       88.00       0      Medium\n",
            "7      Hank  21.0   80.0       85.25       1      Medium\n",
            "8       Ivy  24.0   92.0       92.00       1        High\n",
            "9      Jack  22.0   79.0       85.00       0      Medium\n",
            "10    Kelly  22.0   82.0       78.00       1      Medium\n",
            "11      Leo  23.0   87.0       85.25       1        High\n",
            "12     Mona  21.0   83.0       80.00       0      Medium\n",
            "13     Nina  22.0   77.0       89.00       1      Medium\n",
            "14    Oscar  25.0   82.0       91.00       0      Medium\n",
            "15     Paul  22.0   81.0       85.25       1      Medium\n"
          ]
        }
      ]
    },
    {
      "cell_type": "code",
      "source": [
        "df[\"Age_Group\"] = pd.cut(df[\"Age\"], bins=[18, 21, 24],\n",
        "labels=[\"Young\", \"Adult\"])\n",
        "print(df)"
      ],
      "metadata": {
        "id": "bFcaAAHMJARb",
        "outputId": "69178905-de1e-41ae-ccbc-2f3bae85c9e0",
        "colab": {
          "base_uri": "https://localhost:8080/"
        }
      },
      "execution_count": null,
      "outputs": [
        {
          "output_type": "stream",
          "name": "stdout",
          "text": [
            "       Name   Age  Marks  Attendance  Passed Performance Age_Group\n",
            "0     Alice  20.0   85.0       90.00       1        High     Young\n",
            "1       Bob  21.0   82.0       80.00       0      Medium     Young\n",
            "2   Charlie  22.0   78.0       85.25       1      Medium     Adult\n",
            "3     David  22.0   90.0       85.00       1        High     Adult\n",
            "4       Eve  20.0   88.0       95.00       0        High     Young\n",
            "5     Frank  22.0   76.0       70.00       1      Medium     Adult\n",
            "6     Grace  23.0   82.0       88.00       0      Medium     Adult\n",
            "7      Hank  21.0   80.0       85.25       1      Medium     Young\n",
            "8       Ivy  24.0   92.0       92.00       1        High     Adult\n",
            "9      Jack  22.0   79.0       85.00       0      Medium     Adult\n",
            "10    Kelly  22.0   82.0       78.00       1      Medium     Adult\n",
            "11      Leo  23.0   87.0       85.25       1        High     Adult\n",
            "12     Mona  21.0   83.0       80.00       0      Medium     Young\n",
            "13     Nina  22.0   77.0       89.00       1      Medium     Adult\n",
            "14    Oscar  25.0   82.0       91.00       0      Medium       NaN\n",
            "15     Paul  22.0   81.0       85.25       1      Medium     Adult\n"
          ]
        }
      ]
    }
  ]
}